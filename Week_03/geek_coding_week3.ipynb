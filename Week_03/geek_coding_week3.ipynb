{
 "cells": [
  {
   "cell_type": "markdown",
   "source": [
    "周一"
   ],
   "metadata": {
    "collapsed": false,
    "pycharm": {
     "name": "#%% md\n"
    }
   }
  },
  {
   "cell_type": "code",
   "execution_count": null,
   "outputs": [],
   "source": [
    "# 17. 电话号码的字母组合\n",
    "class Solution:\n",
    "    def letterCombinations(self, digits: str) -> List[str]:\n",
    "        if not digits: return []\n",
    "\n",
    "        phone = {'2':['a','b','c'],\n",
    "                 '3':['d','e','f'],\n",
    "                 '4':['g','h','i'],\n",
    "                 '5':['j','k','l'],\n",
    "                 '6':['m','n','o'],\n",
    "                 '7':['p','q','r','s'],\n",
    "                 '8':['t','u','v'],\n",
    "                 '9':['w','x','y','z']}\n",
    "        def backtrack(conbination,nextdigit):\n",
    "            \"\"\"\n",
    "            :param conbination:\n",
    "            :param nextdigit:\n",
    "            :return:\n",
    "            \"\"\"\n",
    "            if len(nextdigit) == 0:\n",
    "                res.append(conbination)\n",
    "            else:\n",
    "                for letter in phone[nextdigit[0]]:\n",
    "                    backtrack(conbination + letter,nextdigit[1:])\n",
    "        res = []\n",
    "        backtrack('',digits)\n",
    "        return res\n",
    "\n",
    "\n"
   ],
   "metadata": {
    "collapsed": false,
    "pycharm": {
     "name": "#%%\n"
    }
   }
  },
  {
   "cell_type": "code",
   "execution_count": null,
   "outputs": [],
   "source": [
    "# 214. 最短回文串\n",
    "# 给定一个字符串 s，你可以通过在字符串前面添加字符将其转换为回文串。找到并返回可以用这种方式转换的最短回文串。\n",
    "# 先从中间再两边，将表平分成两部分，用中值右侧的列表的逆域左侧列表一致则将两者拼接\n",
    "\n",
    "class Solution:\n",
    "    def shortestPalindrome(self, s: str) -> str:\n",
    "        n = len(s)\n",
    "        mid = n // 2\n",
    "        for l in range(mid+1, -1 ,-1):\n",
    "            if n-l >= l:\n",
    "                leftpart = s[:l]\n",
    "                rightpart = s[l:]\n",
    "                rerightpart = rightpart[::-1]\n",
    "                if n-2*l > 0 and rerightpart[n-2*l-1:n-l-1] == leftpart:\n",
    "                    return rerightpart[:n-l-1] + rightpart\n",
    "                elif rerightpart[n-2*l:] == leftpart:\n",
    "                    return rerightpart + rightpart\n",
    "\n",
    "\n",
    "\n",
    "\n",
    "\n",
    "\n",
    "\n",
    "\n",
    "\n"
   ],
   "metadata": {
    "collapsed": false,
    "pycharm": {
     "name": "#%%\n"
    }
   }
  },
  {
   "cell_type": "markdown",
   "source": [
    "周二"
   ],
   "metadata": {
    "collapsed": false
   }
  },
  {
   "cell_type": "code",
   "execution_count": null,
   "outputs": [],
   "source": [
    "# 347. 前 K 个高频元素\n",
    "class Solution:\n",
    "    def topKFrequent(self, nums: List[int], k: int) -> List[int]:\n",
    "        counter = collections.Counter(nums)\n",
    "        n = len(nums)\n",
    "        cc = [[] for _ in range(n + 1)]\n",
    "        for v, c in counter.items():\n",
    "            cc[c].append(v)\n",
    "        res = []\n",
    "        for i in range(n, -1, -1):\n",
    "            res.extend(cc[i])\n",
    "            if len(res) == k:\n",
    "                return res\n",
    "\n",
    "\n",
    "# 这个写法其实应该算作弊\n",
    "# class Solution:\n",
    "#     def topKFrequent(self, nums: List[int], k: int) -> List[int]:\n",
    "#         return [e[0] for e in collections.Counter(nums).most_common(k)]\n"
   ],
   "metadata": {
    "collapsed": false,
    "pycharm": {
     "name": "#%%\n"
    }
   }
  },
  {
   "cell_type": "markdown",
   "source": [
    "# 周三\n"
   ],
   "metadata": {
    "collapsed": false
   }
  },
  {
   "cell_type": "code",
   "source": [
    "# 剑指 Offer 05. 替换空格\n",
    "\"\"\"\n",
    "python可以直接replace 字符串，但是会有内存过大的风险，选择循环读取每个字符，然后判断字符是否为空格就好\n",
    "\n",
    "\"\"\"\n",
    "\n",
    "# class Solution:\n",
    "#     def replaceSpace(self, s: str) -> str:\n",
    "#         return s.replace(' ', '%20')\n",
    "\n",
    "\n",
    "class Solution:\n",
    "    def replaceSpace(self, s: str) -> str:\n",
    "        res = []\n",
    "        for c in s:\n",
    "            if c!= ' ':\n",
    "                res.append(c)\n",
    "            else:\n",
    "                res.append(\"%20\")\n",
    "        return ''.join(res)\n",
    "\n",
    "\n",
    "\n",
    "\n",
    "\n"
   ],
   "metadata": {
    "collapsed": false,
    "pycharm": {
     "name": "#%%\n"
    }
   },
   "execution_count": null,
   "outputs": []
  },
  {
   "cell_type": "markdown",
   "source": [
    "# 周四\n"
   ],
   "metadata": {
    "collapsed": false,
    "pycharm": {
     "name": "#%% md\n"
    }
   }
  },
  {
   "cell_type": "code",
   "execution_count": null,
   "outputs": [],
   "source": [
    "# 剑指 Offer 06. 从尾到头打印链表\n",
    "\n",
    "\n",
    "\"\"\"\n",
    "解法很多可以双判断。也可以定义一个列表分表对比每个可能\n",
    "\"\"\"\n",
    "class Solution:\n",
    "    def reversePrint(self, head: ListNode) -> List[int]:\n",
    "        return self.reversePrint(head.next) + [head.val] if head else []"
   ],
   "metadata": {
    "collapsed": false,
    "pycharm": {
     "name": "#%%\n"
    }
   }
  },
  {
   "cell_type": "markdown",
   "source": [
    "# 周五"
   ],
   "metadata": {
    "collapsed": false
   }
  },
  {
   "cell_type": "code",
   "source": [
    "# 两数和 思路使用hash kv 形式快速的求解，由于是使用了hash 则题目就换成了 target - nums = return的形式\n",
    "class Solution(object):\n",
    "    def twoSum(self, nums, target):\n",
    "        \"\"\"\n",
    "        :type nums: List[int]\n",
    "        :type target: int\n",
    "        :rtype: List[int]\n",
    "        \"\"\"\n",
    "        d = {}\n",
    "        for i, num in enumerate(nums):\n",
    "            if target - num in d:\n",
    "                return [d[target - num], i]\n",
    "            d[num] = i\n",
    "\n"
   ],
   "metadata": {
    "collapsed": false,
    "pycharm": {
     "name": "#%%\n"
    }
   },
   "execution_count": null,
   "outputs": []
  },
  {
   "cell_type": "markdown",
   "source": [
    "# 周六"
   ],
   "metadata": {
    "collapsed": false
   }
  },
  {
   "cell_type": "code",
   "execution_count": null,
   "outputs": [],
   "source": [
    "# 15. 三数之和\n",
    "\"\"\"\n",
    "双指针完成，实际题目在问是否a+b=c\n",
    "\"\"\"\n",
    "class Solution:\n",
    "    def threeSum(self, nums: List[int]) -> List[List[int]]:\n",
    "        #双指针，外部时间复杂度为O(n),sort内置函数的时间复杂度为O(nlogn)空间为O(n)\n",
    "        result = []\n",
    "        nums.sort()\n",
    "        for i in range(len(nums)):\n",
    "            if i > 0 and nums[i] == nums[i - 1]:\n",
    "                continue\n",
    "            left, right = i + 1, len(nums) - 1\n",
    "            while left < right:\n",
    "                currSum = nums[i] + nums[left] + nums[right]\n",
    "                if currSum == 0:\n",
    "                    result.append([nums[i], nums[left], nums[right]])\n",
    "                    while left < right and nums[left] == nums[left + 1]:\n",
    "                        left += 1\n",
    "                    while left < right and nums[right] == nums[right - 1]:\n",
    "                        right -= 1\n",
    "                    left += 1\n",
    "                    right -= 1\n",
    "                elif currSum < 0:\n",
    "                    left += 1\n",
    "                else:\n",
    "                    right -= 1\n",
    "        return result\n",
    "\n"
   ],
   "metadata": {
    "collapsed": false,
    "pycharm": {
     "name": "#%%\n"
    }
   }
  },
  {
   "cell_type": "markdown",
   "source": [
    "# 周日\n",
    "\n",
    "#"
   ],
   "metadata": {
    "collapsed": false,
    "pycharm": {
     "name": "#%% md\n"
    }
   }
  },
  {
   "cell_type": "code",
   "execution_count": null,
   "outputs": [],
   "source": [
    "# 面试题 17.09. 第 k 个数\n",
    "# # class Solution:\n",
    "#     def getKthMagicNumber(self, k: int) -> int:\n",
    "#         # 让1, 3, 5, 7先入列表, 加快4内读取速度, 所以3、5、7的值均为1\n",
    "#         num3 = num5 = num7 = 1\n",
    "#         numsList = [1, 3, 5, 7]\n",
    "#         if k <= 4:\n",
    "#             return numsList[k - 1]\n",
    "#         for i in range(4, k):\n",
    "#             # 3, 5, 7取的数与对应3、5、7相乘, 所得三者间最小值\n",
    "#             addNum = min(numsList[num3] * 3, numsList[num5] * 5, numsList[num7] * 7)\n",
    "#             numsList.append(addNum)\n",
    "#             # 最小的数是3、5、7哪个相乘的, 对应数加1\n",
    "#             if addNum == numsList[num3] * 3:\n",
    "#                 num3 += 1\n",
    "#             if addNum == numsList[num5] * 5:\n",
    "#                 num5 += 1\n",
    "#             if addNum == numsList[num7] * 7:\n",
    "#                 num7 += 1\n",
    "#         return numsList[k - 1]\n",
    "\n",
    "class Solution:\n",
    "    def getKthMagicNumber(self, k: int) -> int:\n",
    "        dp = [1 for _ in range(k)]\n",
    "        d3,d5,d7 = 0,0,0\n",
    "        for i in range(1,k):\n",
    "            Min = min(dp[d3]*3,dp[d5]*5,dp[d7]*7)\n",
    "            dp[i] = Min\n",
    "            if dp[d3]*3 == Min :\n",
    "                d3 = d3 + 1\n",
    "            if dp[d5]*5 == Min :\n",
    "                d5 = d5 + 1\n",
    "            if dp[d7]*7 == Min :\n",
    "                d7 = d7 + 1\n",
    "\n",
    "        return dp[-1]\n"
   ],
   "metadata": {
    "collapsed": false,
    "pycharm": {
     "name": "#%%\n"
    }
   }
  },
  {
   "cell_type": "code",
   "execution_count": null,
   "outputs": [],
   "source": [
    "# 126. 单词接龙 II\n",
    "class Solution:\n",
    "    def findLadders(self, beginWord: str, endWord: str, wordList: List[str]) -> List[List[str]]:\n",
    "        if endWord not in wordList: return []\n",
    "        forward, backward, wordList, flag = {beginWord}, {endWord}, set(wordList), True\n",
    "        letters, length, dic = 'abcdefghijklmnopqrstuvwxyz', len(beginWord), defaultdict(set)\n",
    "        while forward:\n",
    "            if len(forward) > len(backward):\n",
    "                forward, backward, flag = backward, forward, not flag\n",
    "            wordList -= forward\n",
    "            cur = set()\n",
    "            for word in forward:\n",
    "                for i in range(length):\n",
    "                    left, right = word[:i], word[i+1:]\n",
    "                    for l in letters:\n",
    "                        w = left + l + right\n",
    "                        if w in wordList:\n",
    "                            cur.add(w)\n",
    "                            if flag:\n",
    "                                dic[w].add(word)\n",
    "                            else:\n",
    "                                dic[word].add(w)\n",
    "            if cur & backward:\n",
    "                res = [[endWord]]\n",
    "                while res[0][0] != beginWord:\n",
    "                    res = [[x]+i for i in res for x in dic[i[0]]]\n",
    "                return res\n",
    "            forward = cur\n",
    "        return []\n",
    "\n"
   ],
   "metadata": {
    "collapsed": false,
    "pycharm": {
     "name": "#%%\n"
    }
   }
  },
  {
   "cell_type": "code",
   "source": [
    "# 21. 合并两个有序链表\n",
    "from functools import lru_cache\n",
    "class Solution:\n",
    "    @lru_cache(100)\n",
    "    def mergeTwoLists(self, l1: ListNode, l2: ListNode) -> ListNode:\n",
    "        if l1 and l2:\n",
    "            if l1.val > l2.val: l1, l2 = l2, l1\n",
    "            l1.next = self.mergeTwoLists(l1.next, l2)\n",
    "        return l1 or l2\n"
   ],
   "metadata": {
    "collapsed": false,
    "pycharm": {
     "name": "#%%\n"
    }
   },
   "execution_count": null,
   "outputs": []
  },
  {
   "cell_type": "markdown",
   "source": [],
   "metadata": {
    "collapsed": false,
    "pycharm": {
     "name": "#%% md\n"
    }
   }
  }
 ],
 "metadata": {
  "kernelspec": {
   "display_name": "Python 3",
   "language": "python",
   "name": "python3"
  },
  "language_info": {
   "codemirror_mode": {
    "name": "ipython",
    "version": 2
   },
   "file_extension": ".py",
   "mimetype": "text/x-python",
   "name": "python",
   "nbconvert_exporter": "python",
   "pygments_lexer": "ipython2",
   "version": "2.7.6"
  }
 },
 "nbformat": 4,
 "nbformat_minor": 0
}