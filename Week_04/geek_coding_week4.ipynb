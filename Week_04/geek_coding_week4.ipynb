{
 "cells": [
  {
   "cell_type": "markdown",
   "source": [
    "# 周一"
   ],
   "metadata": {
    "collapsed": false,
    "pycharm": {
     "name": "#%% md\n"
    }
   }
  },
  {
   "cell_type": "code",
   "execution_count": null,
   "outputs": [],
   "source": [
    "# 46. 全排列\n",
    "# 给定一个 没有重复 数字的序列，返回其所有可能的全排列。\n",
    "class Solution:\n",
    "    def permute(self, nums):\n",
    "        \"\"\"\n",
    "        :type nums: List[int]\n",
    "        :rtype: List[List[int]]\n",
    "        \"\"\"\n",
    "        def backtrack(first = 0):\n",
    "            # 所有数都填完了\n",
    "            if first == n:\n",
    "                res.append(nums[:])\n",
    "            for i in range(first, n):\n",
    "                # 动态维护数组\n",
    "                nums[first], nums[i] = nums[i], nums[first]\n",
    "                # 继续递归填下一个数\n",
    "                backtrack(first + 1)\n",
    "                # 撤销操作\n",
    "                nums[first], nums[i] = nums[i], nums[first]\n",
    "\n",
    "        n = len(nums)\n",
    "        res = []\n",
    "        backtrack()\n",
    "        return res\n"
   ],
   "metadata": {
    "collapsed": false,
    "pycharm": {
     "name": "#%%\n"
    }
   }
  },
  {
   "cell_type": "code",
   "execution_count": null,
   "outputs": [],
   "source": [
    "\n",
    "\n"
   ],
   "metadata": {
    "collapsed": false,
    "pycharm": {
     "name": "#%%\n"
    }
   }
  },
  {
   "cell_type": "markdown",
   "source": [
    "# 周二"
   ],
   "metadata": {
    "collapsed": false
   }
  },
  {
   "cell_type": "code",
   "execution_count": null,
   "outputs": [],
   "source": [
    "# 37. 解数独\n",
    "# 编写一个程序，通过填充空格来解决数独问题。\n",
    "#\n",
    "# 一个数独的解法需遵循如下规则：\n",
    "#\n",
    "# 数字 1-9 在每一行只能出现一次。\n",
    "# 数字 1-9 在每一列只能出现一次。\n",
    "# 数字 1-9 在每一个以粗实线分隔的 3x3 宫内只能出现一次。\n",
    "# 空白格用 '.' 表示。\n",
    "\n",
    "class Solution:\n",
    "    def solveSudoku(self, board: List[List[str]]) -> None:\n",
    "        \"\"\"\n",
    "        Do not return anything, modify board in-place instead.\n",
    "        \"\"\"\n",
    "        col = [set() for i in range(9)]\n",
    "        row = [set() for i in range(9)]\n",
    "        sqr = [[set() for i in range(3)] for i in range(3)]\n",
    "        for i in range(9):\n",
    "            for j in range(9):\n",
    "                if board[i][j] != '.':\n",
    "                    col[j].add(board[i][j])\n",
    "                    row[i].add(board[i][j])\n",
    "                    sqr[i//3][j//3].add(board[i][j])\n",
    "\n",
    "        def dfs(i, j):\n",
    "            if board[i][j] != '.':\n",
    "                if i == 8 and j == 8:\n",
    "                    self.flag = True\n",
    "                    return\n",
    "                if j < 8:\n",
    "                    dfs(i, j+1)\n",
    "                else:\n",
    "                    dfs(i+1, 0)\n",
    "                return\n",
    "            #print(row[i])\n",
    "            #print(col[j])\n",
    "            #print(sqr[i//3][j//3])\n",
    "            #print(board)\n",
    "            #for l in board:print(l)\n",
    "            #input()\n",
    "            for ch in range(1, 10):\n",
    "                ch = str(ch)\n",
    "                if ch not in col[j] and ch not in row[i] and ch not in sqr[i//3][j//3]:\n",
    "                    #print(i, j, ch)\n",
    "                    col[j].add(ch)\n",
    "                    row[i].add(ch)\n",
    "                    sqr[i//3][j//3].add(ch)\n",
    "                    board[i][j] = ch\n",
    "                    if i == 8 and j == 8:\n",
    "                        self.flag = True\n",
    "                        return\n",
    "                    if j < 8:\n",
    "                        dfs(i, j+1)\n",
    "                    else:\n",
    "                        dfs(i+1, 0)\n",
    "                    if self.flag: return\n",
    "                    board[i][j] = '.'\n",
    "                    col[j].remove(ch)\n",
    "                    row[i].remove(ch)\n",
    "                    sqr[i//3][j//3].remove(ch)\n",
    "        self.flag = False\n",
    "        dfs(0, 0)\n",
    "\n",
    "\n",
    "\n",
    "\n",
    "\n",
    "\n",
    "\n"
   ],
   "metadata": {
    "collapsed": false,
    "pycharm": {
     "name": "#%%\n"
    }
   }
  },
  {
   "cell_type": "markdown",
   "source": [
    "# 周三\n"
   ],
   "metadata": {
    "collapsed": false
   }
  },
  {
   "cell_type": "code",
   "source": [
    "# 判断一个整数是否是回文数。回文数是指正序（从左向右）和倒序（从右向左）读都是一样的整数。\n",
    "\n",
    "class Solution:\n",
    "    def isPalindrome(self, x: int) -> bool:\n",
    "        if x<0 or (x%10==0 and x!=0):\n",
    "            return False\n",
    "        xx = x\n",
    "        y = 0\n",
    "        while x != 0:\n",
    "            y = y*10 + x%10\n",
    "            x = x//10\n",
    "        if xx==y:\n",
    "            return True\n",
    "        else:\n",
    "            return False\n"
   ],
   "metadata": {
    "collapsed": false,
    "pycharm": {
     "name": "#%%\n"
    }
   },
   "execution_count": null,
   "outputs": []
  },
  {
   "cell_type": "markdown",
   "source": [
    "# 周四\n"
   ],
   "metadata": {
    "collapsed": false,
    "pycharm": {
     "name": "#%% md\n"
    }
   }
  },
  {
   "cell_type": "code",
   "execution_count": null,
   "outputs": [],
   "source": [
    "# 226. 翻转二叉树\n",
    "class Solution:\n",
    "    def invertTree(self, root: TreeNode) -> TreeNode:\n",
    "        if not root:\n",
    "            return root\n",
    "        root.left , root.right = root.right , root.left\n",
    "        self.invertTree(root.left)\n",
    "        self.invertTree(root.right)\n",
    "        return root"
   ],
   "metadata": {
    "collapsed": false,
    "pycharm": {
     "name": "#%%\n"
    }
   }
  },
  {
   "cell_type": "markdown",
   "source": [
    "# 周五"
   ],
   "metadata": {
    "collapsed": false
   }
  },
  {
   "cell_type": "code",
   "source": [
    "# 860. 柠檬水找零\n",
    "# 在柠檬水摊上，每一杯柠檬水的售价为 5 美元。\n",
    "#\n",
    "# 顾客排队购买你的产品，（按账单 bills 支付的顺序）一次购买一杯。\n",
    "#\n",
    "# 每位顾客只买一杯柠檬水，然后向你付 5 美元、10 美元或 20 美元。你必须给每个顾客正确找零，也就是说净交易是每位顾客向你支付 5 美元。\n",
    "#\n",
    "# 注意，一开始你手头没有任何零钱。\n",
    "#\n",
    "# 如果你能给每位顾客正确找零，返回 true ，否则返回 false 。\n",
    "class Solution:\n",
    "    def lemonadeChange(self, bills: List[int]) -> bool:\n",
    "        i=j=0\n",
    "        for k in bills:\n",
    "            if k==5:i+=1\n",
    "            elif k==10:j+=1;i-=1\n",
    "            else:\n",
    "                if j==0:i-=3\n",
    "                else:i-=1;j-=1\n",
    "            if i<0 or j<0:return False\n",
    "        return True"
   ],
   "metadata": {
    "collapsed": false,
    "pycharm": {
     "name": "#%%\n"
    }
   },
   "execution_count": null,
   "outputs": []
  },
  {
   "cell_type": "markdown",
   "source": [
    "# 周六"
   ],
   "metadata": {
    "collapsed": false
   }
  },
  {
   "cell_type": "code",
   "execution_count": null,
   "outputs": [],
   "source": [
    "# 200. 岛屿数量\n",
    "class Solution:\n",
    "    def numIslands(self, grid: List[List[str]]) -> int:\n",
    "        if not grid or len(grid[0]) == 0:\n",
    "            return 0\n",
    "        res = 0\n",
    "        def DFS(first, second, currentGrid):\n",
    "            currentGrid[first][second] = \"0\"\n",
    "            if second + 1 <= len(grid[0]) - 1 and currentGrid[first][second + 1] == \"1\":\n",
    "                DFS(first, second + 1, currentGrid)\n",
    "            if first + 1 <= len(grid) - 1 and currentGrid[first + 1][second] == \"1\":\n",
    "                DFS(first + 1, second, currentGrid)\n",
    "            if second - 1 >= 0 and currentGrid[first][second - 1] == \"1\":\n",
    "                DFS(first, second - 1, currentGrid)\n",
    "            if first - 1 >= 0 and currentGrid[first - 1][second] == \"1\":\n",
    "                DFS(first - 1, second, currentGrid)\n",
    "            return\n",
    "\n",
    "        for i in range(len(grid)):\n",
    "            for j in range(len(grid[0])):\n",
    "                if grid[i][j] == \"1\":\n",
    "                    res += 1\n",
    "                    DFS(i,j,grid)\n",
    "        return res\n"
   ],
   "metadata": {
    "collapsed": false,
    "pycharm": {
     "name": "#%%\n"
    }
   }
  },
  {
   "cell_type": "markdown",
   "source": [
    "# 周日\n",
    "\n",
    "#"
   ],
   "metadata": {
    "collapsed": false,
    "pycharm": {
     "name": "#%% md\n"
    }
   }
  },
  {
   "cell_type": "code",
   "execution_count": null,
   "outputs": [],
   "source": [
    "class Solution(object):\n",
    "    def majorityElement(self, nums):\n",
    "        \"\"\"\n",
    "        :type nums: List[int]\n",
    "        :rtype: int\n",
    "        \"\"\"\n",
    "        major = 0\n",
    "        count = 0\n",
    "\n",
    "        for n in nums:\n",
    "            if count == 0:\n",
    "                major = n\n",
    "            if n == major:\n",
    "                count = count + 1\n",
    "            else:\n",
    "                count = count - 1\n",
    "\n",
    "        return major\n"
   ],
   "metadata": {
    "collapsed": false,
    "pycharm": {
     "name": "#%%\n"
    }
   }
  },
  {
   "cell_type": "code",
   "execution_count": null,
   "outputs": [],
   "source": [
    "\n",
    "\n"
   ],
   "metadata": {
    "collapsed": false,
    "pycharm": {
     "name": "#%%\n"
    }
   }
  },
  {
   "cell_type": "code",
   "source": [],
   "metadata": {
    "collapsed": false,
    "pycharm": {
     "name": "#%%\n"
    }
   },
   "execution_count": null,
   "outputs": []
  },
  {
   "cell_type": "markdown",
   "source": [],
   "metadata": {
    "collapsed": false,
    "pycharm": {
     "name": "#%% md\n"
    }
   }
  }
 ],
 "metadata": {
  "kernelspec": {
   "display_name": "Python 3",
   "language": "python",
   "name": "python3"
  },
  "language_info": {
   "codemirror_mode": {
    "name": "ipython",
    "version": 2
   },
   "file_extension": ".py",
   "mimetype": "text/x-python",
   "name": "python",
   "nbconvert_exporter": "python",
   "pygments_lexer": "ipython2",
   "version": "2.7.6"
  }
 },
 "nbformat": 4,
 "nbformat_minor": 0
}