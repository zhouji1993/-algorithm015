{
 "cells": [
  {
   "cell_type": "markdown",
   "source": [
    "# 回文子串"
   ],
   "metadata": {
    "collapsed": false
   }
  },
  {
   "cell_type": "code",
   "execution_count": null,
   "outputs": [],
   "source": [
    "#回文子串\n",
    "\n",
    "class Solution:\n",
    "    def countSubstrings(self, s: str) -> int:\n",
    "        # dp[i][j] 代表 子串[i, j] 是否是一个 回文串\n",
    "        n = len(s)\n",
    "        dp = [[False] * n for _ in range(n)]\n",
    "        count = 0\n",
    "        # 枚举所有可能 因为代表子串 所以 i <= j\n",
    "        for j in range(n):\n",
    "            for i in range(0, j + 1):\n",
    "                # 子串长度\n",
    "                length = j - i + 1\n",
    "                # 只有一个字符 直接就是一个回文串\n",
    "                if length == 1:\n",
    "                    dp[i][j] = True\n",
    "                    count += 1\n",
    "                # 两个字符 只有相等才是回文串\n",
    "                if length == 2 and s[i] == s[j]:\n",
    "                    dp[i][j] = True\n",
    "                    count += 1\n",
    "                # 超过两个字符 首位相同 且除去首尾的子串是回文串 才是回文串\n",
    "                if length > 2 and s[i] == s[j] and dp[i+1][j-1] is True:\n",
    "                    dp[i][j] = True\n",
    "                    count += 1\n",
    "        return count\n",
    "\n"
   ],
   "metadata": {
    "collapsed": false,
    "pycharm": {
     "name": "#%%\n"
    }
   }
  },
  {
   "cell_type": "markdown",
   "source": [
    "#  矩形区域不超过 K 的最大数值和"
   ],
   "metadata": {
    "collapsed": false
   }
  },
  {
   "cell_type": "code",
   "execution_count": null,
   "outputs": [],
   "source": [
    "class Solution:\n",
    "    def maxSumSubmatrix(self, matrix: List[List[int]], k: int) -> int:\n",
    "        rows = len(matrix)\n",
    "        cols = len(matrix[0])\n",
    "        maxnum = float('-inf')\n",
    "\n",
    "        def dpmax(arr, k) :\n",
    "            roll_sum = arr[0]\n",
    "            roll_max = roll_sum\n",
    "            maxnum = float('-inf')\n",
    "            for i in range(1, len(arr)) :\n",
    "                if roll_sum > 0:\n",
    "                    roll_sum += arr[i]\n",
    "                else:\n",
    "                    roll_sum = arr[i]\n",
    "                if roll_sum > roll_max:\n",
    "                    roll_max = roll_sum\n",
    "\n",
    "            if roll_max <= k:\n",
    "                return roll_max\n",
    "            for l in range(len(arr)) :\n",
    "                sumnum = 0\n",
    "                for r in range(l, len(arr)) :\n",
    "                    sumnum += arr[r]\n",
    "                    if sumnum > maxnum and sumnum <= k:\n",
    "                        maxnum = sumnum\n",
    "                    if maxnum == k:\n",
    "                        return k\n",
    "            return maxnum\n",
    "\n",
    "        for l in range(cols) :\n",
    "            row_sum = [0 for _ in range(rows)]\n",
    "            for r in range(l, cols) :\n",
    "                for i in range(rows) :\n",
    "                    row_sum[i] += matrix[i][r]\n",
    "                maxnum = max(maxnum, dpmax(row_sum, k))\n",
    "                if maxnum == k:\n",
    "                    return k\n",
    "        return maxnum\n"
   ],
   "metadata": {
    "collapsed": false,
    "pycharm": {
     "name": "#%%\n"
    }
   }
  },
  {
   "cell_type": "markdown",
   "source": [
    "# 打家结社"
   ],
   "metadata": {
    "collapsed": false,
    "pycharm": {
     "name": "#%% md\n"
    }
   }
  },
  {
   "cell_type": "code",
   "execution_count": null,
   "outputs": [],
   "source": [
    "class Solution:\n",
    "    def rob(self, nums: List[int]) -> int:\n",
    "        prev = 0\n",
    "        curr = 0\n",
    "\n",
    "        # 每次循环，计算“偷到当前房子为止的最大金额”\n",
    "        for i in nums:\n",
    "            # 循环开始时，curr 表示 dp[k-1]，prev 表示 dp[k-2]\n",
    "            # dp[k] = max{ dp[k-1], dp[k-2] + i }\n",
    "            prev, curr = curr, max(curr, prev + i)\n",
    "            # 循环结束时，curr 表示 dp[k]，prev 表示 dp[k-1]\n",
    "\n",
    "        return curr"
   ],
   "metadata": {
    "collapsed": false,
    "pycharm": {
     "name": "#%%\n"
    }
   }
  }
 ],
 "metadata": {
  "kernelspec": {
   "display_name": "Python 3.6.8 64-bit",
   "language": "python",
   "name": "python36864bit2e3dd28fd1b6456789eebae6b0508b53"
  },
  "language_info": {
   "name": ""
  }
 },
 "nbformat": 4,
 "nbformat_minor": 2
}