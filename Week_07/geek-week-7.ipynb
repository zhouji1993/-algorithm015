{
 "cells": [
  {
   "cell_type": "markdown",
   "source": [
    "# 回文子串"
   ],
   "metadata": {
    "collapsed": false
   }
  },
  {
   "cell_type": "code",
   "execution_count": null,
   "outputs": [],
   "source": [
    "#回文子串\n",
    "class Solution:\n",
    "    def solveSudoku(self, board: List[List[str]]) -> None:\n",
    "        \"\"\"\n",
    "        Do not return anything, modify board in-place instead.\n",
    "        \"\"\"\n",
    "        col = [set() for i in range(9)]\n",
    "        row = [set() for i in range(9)]\n",
    "        sqr = [[set() for i in range(3)] for i in range(3)]\n",
    "        for i in range(9):\n",
    "            for j in range(9):\n",
    "                if board[i][j] != '.':\n",
    "                    col[j].add(board[i][j])\n",
    "                    row[i].add(board[i][j])\n",
    "                    sqr[i//3][j//3].add(board[i][j])\n",
    "\n",
    "        def dfs(i, j):\n",
    "            if board[i][j] != '.':\n",
    "                if i == 8 and j == 8:\n",
    "                    self.flag = True\n",
    "                    return\n",
    "                if j < 8:\n",
    "                    dfs(i, j+1)\n",
    "                else:\n",
    "                    dfs(i+1, 0)\n",
    "                return\n",
    "            #print(row[i])\n",
    "            #print(col[j])\n",
    "            #print(sqr[i//3][j//3])\n",
    "            #print(board)\n",
    "            #for l in board:print(l)\n",
    "            #input()\n",
    "            for ch in range(1, 10):\n",
    "                ch = str(ch)\n",
    "                if ch not in col[j] and ch not in row[i] and ch not in sqr[i//3][j//3]:\n",
    "                    #print(i, j, ch)\n",
    "                    col[j].add(ch)\n",
    "                    row[i].add(ch)\n",
    "                    sqr[i//3][j//3].add(ch)\n",
    "                    board[i][j] = ch\n",
    "                    if i == 8 and j == 8:\n",
    "                        self.flag = True\n",
    "                        return\n",
    "                    if j < 8:\n",
    "                        dfs(i, j+1)\n",
    "                    else:\n",
    "                        dfs(i+1, 0)\n",
    "                    if self.flag: return\n",
    "                    board[i][j] = '.'\n",
    "                    col[j].remove(ch)\n",
    "                    row[i].remove(ch)\n",
    "                    sqr[i//3][j//3].remove(ch)\n",
    "        self.flag = False\n",
    "        dfs(0, 0)\n",
    "\n"
   ],
   "metadata": {
    "collapsed": false,
    "pycharm": {
     "name": "#%%\n"
    }
   }
  },
  {
   "cell_type": "markdown",
   "source": [
    "#  岛屿数量"
   ],
   "metadata": {
    "collapsed": false
   }
  },
  {
   "cell_type": "code",
   "execution_count": null,
   "outputs": [],
   "source": [
    "class Solution:\n",
    "    def numIslands(self, grid: List[List[str]]) -> int:\n",
    "        result = 0\n",
    "        q = collections.deque()\n",
    "        m,n = len(grid),len(grid[0])\n",
    "        for i in range(m):\n",
    "            for j in range(n):\n",
    "                if grid[i][j] == '1':\n",
    "\n",
    "                    result += 1\n",
    "                    q.append((i,j))\n",
    "                    grid[i][j] = 0\n",
    "\n",
    "                    while q:\n",
    "                        x,y = q.pop()\n",
    "                        if x-1 > -1 and grid[x-1][y] == '1':\n",
    "                            q.append((x-1,y))\n",
    "                            grid[x-1][y] = 0\n",
    "                        if x+1 < m and grid[x+1][y] == '1':\n",
    "                            q.append((x+1,y))\n",
    "                            grid[x+1][y] = 0\n",
    "                        if y-1 > -1 and grid[x][y-1] == '1':\n",
    "                            q.append((x,y-1))\n",
    "                            grid[x][y-1] = 0\n",
    "                        if y+1 < n and grid[x][y+1] == '1':\n",
    "                            q.append((x,y+1))\n",
    "                            grid[x][y+1] = 0\n",
    "        return result\n"
   ],
   "metadata": {
    "collapsed": false,
    "pycharm": {
     "name": "#%%\n"
    }
   }
  },
  {
   "cell_type": "markdown",
   "source": [
    "# 打家结社"
   ],
   "metadata": {
    "collapsed": false,
    "pycharm": {
     "name": "#%% md\n"
    }
   }
  },
  {
   "cell_type": "code",
   "execution_count": null,
   "outputs": [],
   "source": [
    "class Solution:\n",
    "    def rob(self, nums: List[int]) -> int:\n",
    "        prev = 0\n",
    "        curr = 0\n",
    "\n",
    "        # 每次循环，计算“偷到当前房子为止的最大金额”\n",
    "        for i in nums:\n",
    "            # 循环开始时，curr 表示 dp[k-1]，prev 表示 dp[k-2]\n",
    "            # dp[k] = max{ dp[k-1], dp[k-2] + i }\n",
    "            prev, curr = curr, max(curr, prev + i)\n",
    "            # 循环结束时，curr 表示 dp[k]，prev 表示 dp[k-1]\n",
    "\n",
    "        return curr"
   ],
   "metadata": {
    "collapsed": false,
    "pycharm": {
     "name": "#%%\n"
    }
   }
  }
 ],
 "metadata": {
  "kernelspec": {
   "display_name": "Python 3.6.8 64-bit",
   "language": "python",
   "name": "python36864bit2e3dd28fd1b6456789eebae6b0508b53"
  },
  "language_info": {
   "name": ""
  }
 },
 "nbformat": 4,
 "nbformat_minor": 2
}