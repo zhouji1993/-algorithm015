{
 "cells": [
  {
   "cell_type": "markdown",
   "source": [
    "# N皇后"
   ],
   "metadata": {
    "collapsed": false
   }
  },
  {
   "cell_type": "code",
   "execution_count": null,
   "outputs": [],
   "source": [
    "\n",
    "\n",
    "class Solution:\n",
    "    def solveNQueens(self, n: int) -> List[List[str]]:\n",
    "        # 按行枚举\n",
    "        col, diag, reverse_diag = [0] * n, [0] * 2 * n, [0] * 2 * n\n",
    "        ret = []\n",
    "        grid = [['.'] * n for _ in range(n)]\n",
    "        def dfs(u:int):\n",
    "            # 终点返回\n",
    "            if u == n:\n",
    "                ret.append([\"\".join(grid[i]) for i in range(n)])\n",
    "                return\n",
    "            for i in range(n):\n",
    "                if not col[i] and not diag[u + i] and not reverse_diag[n - u + i]:\n",
    "                    grid[u][i] = 'Q'\n",
    "                    col[i], diag[u + i], reverse_diag[n - u + i] = 1, 1, 1\n",
    "                    dfs(u + 1)\n",
    "                    grid[u][i] = '.'\n",
    "                    col[i], diag[u + i], reverse_diag[n - u + i] = 0, 0, 0\n",
    "        dfs(0)\n",
    "        return ret\n",
    "\n",
    "\n"
   ],
   "metadata": {
    "collapsed": false,
    "pycharm": {
     "name": "#%%\n"
    }
   }
  }
 ],
 "metadata": {
  "kernelspec": {
   "display_name": "Python 3.6.8 64-bit",
   "language": "python",
   "name": "python36864bit2e3dd28fd1b6456789eebae6b0508b53"
  },
  "language_info": {
   "name": ""
  }
 },
 "nbformat": 4,
 "nbformat_minor": 2
}