{
 "cells": [
  {
   "cell_type": "markdown",
   "source": [
    "# 最长回文子串"
   ],
   "metadata": {
    "collapsed": false
   }
  },
  {
   "cell_type": "code",
   "execution_count": null,
   "outputs": [],
   "source": [
    "#回文子串\n",
    "\n",
    "class Solution:\n",
    "    def longestPalindrome(self, s: str) -> str:\n",
    "        str_length = len(s)\n",
    "        max_length = 0\n",
    "        start = 0\n",
    "        for i in range(str_length):\n",
    "            if i - max_length >= 1 and s[i - max_length - 1:i + 2] == s[i - max_length - 1:i + 2][::-1]:\n",
    "                start = i - max_length - 1\n",
    "                max_length += 2\n",
    "                continue\n",
    "            if i - max_length >= 0 and s[i - max_length:i + 2] == s[i - max_length:i + 2][::-1]:\n",
    "                start = i - max_length\n",
    "                max_length += 1\n",
    "        return s[start:start + max_length+1]\n",
    "\n"
   ],
   "metadata": {
    "collapsed": false,
    "pycharm": {
     "name": "#%%\n"
    }
   }
  },
  {
   "cell_type": "markdown",
   "source": [
    "#  矩形区域不超过 K 的最大数值和"
   ],
   "metadata": {
    "collapsed": false
   }
  },
  {
   "cell_type": "code",
   "execution_count": null,
   "outputs": [],
   "source": [
    "class Solution:\n",
    "    def maxSumSubmatrix(self, matrix: List[List[int]], k: int) -> int:\n",
    "        rows = len(matrix)\n",
    "        cols = len(matrix[0])\n",
    "        maxnum = float('-inf')\n",
    "\n",
    "        def dpmax(arr, k) :\n",
    "            roll_sum = arr[0]\n",
    "            roll_max = roll_sum\n",
    "            maxnum = float('-inf')\n",
    "            for i in range(1, len(arr)) :\n",
    "                if roll_sum > 0:\n",
    "                    roll_sum += arr[i]\n",
    "                else:\n",
    "                    roll_sum = arr[i]\n",
    "                if roll_sum > roll_max:\n",
    "                    roll_max = roll_sum\n",
    "\n",
    "            if roll_max <= k:\n",
    "                return roll_max\n",
    "            for l in range(len(arr)) :\n",
    "                sumnum = 0\n",
    "                for r in range(l, len(arr)) :\n",
    "                    sumnum += arr[r]\n",
    "                    if sumnum > maxnum and sumnum <= k:\n",
    "                        maxnum = sumnum\n",
    "                    if maxnum == k:\n",
    "                        return k\n",
    "            return maxnum\n",
    "\n",
    "        for l in range(cols) :\n",
    "            row_sum = [0 for _ in range(rows)]\n",
    "            for r in range(l, cols) :\n",
    "                for i in range(rows) :\n",
    "                    row_sum[i] += matrix[i][r]\n",
    "                maxnum = max(maxnum, dpmax(row_sum, k))\n",
    "                if maxnum == k:\n",
    "                    return k\n",
    "        return maxnum\n"
   ],
   "metadata": {
    "collapsed": false,
    "pycharm": {
     "name": "#%%\n"
    }
   }
  },
  {
   "cell_type": "markdown",
   "source": [
    "# 打家结社"
   ],
   "metadata": {
    "collapsed": false,
    "pycharm": {
     "name": "#%% md\n"
    }
   }
  },
  {
   "cell_type": "code",
   "execution_count": null,
   "outputs": [],
   "source": [
    "class Solution:\n",
    "    def rob(self, nums: List[int]) -> int:\n",
    "        prev = 0\n",
    "        curr = 0\n",
    "\n",
    "        # 每次循环，计算“偷到当前房子为止的最大金额”\n",
    "        for i in nums:\n",
    "            # 循环开始时，curr 表示 dp[k-1]，prev 表示 dp[k-2]\n",
    "            # dp[k] = max{ dp[k-1], dp[k-2] + i }\n",
    "            prev, curr = curr, max(curr, prev + i)\n",
    "            # 循环结束时，curr 表示 dp[k]，prev 表示 dp[k-1]\n",
    "\n",
    "        return curr"
   ],
   "metadata": {
    "collapsed": false,
    "pycharm": {
     "name": "#%%\n"
    }
   }
  }
 ],
 "metadata": {
  "kernelspec": {
   "display_name": "Python 3.6.8 64-bit",
   "language": "python",
   "name": "python36864bit2e3dd28fd1b6456789eebae6b0508b53"
  },
  "language_info": {
   "name": ""
  }
 },
 "nbformat": 4,
 "nbformat_minor": 2
}